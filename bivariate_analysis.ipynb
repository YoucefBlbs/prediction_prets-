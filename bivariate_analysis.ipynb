{
 "cells": [
  {
   "cell_type": "code",
   "execution_count": 1,
   "id": "72c5f75b-21f6-475e-badf-de8ce8767e85",
   "metadata": {
    "tags": []
   },
   "outputs": [],
   "source": [
    "import pandas as pd \n",
    "import  numpy as np  \n",
    "import matplotlib.pyplot as plt\n",
    "import seaborn as sns\n",
    "import os"
   ]
  },
  {
   "cell_type": "code",
   "execution_count": 2,
   "id": "78d314f2-6507-4cf4-a3b1-05fd2828114b",
   "metadata": {
    "tags": []
   },
   "outputs": [
    {
     "data": {
      "text/html": [
       "<div>\n",
       "<style scoped>\n",
       "    .dataframe tbody tr th:only-of-type {\n",
       "        vertical-align: middle;\n",
       "    }\n",
       "\n",
       "    .dataframe tbody tr th {\n",
       "        vertical-align: top;\n",
       "    }\n",
       "\n",
       "    .dataframe thead th {\n",
       "        text-align: right;\n",
       "    }\n",
       "</style>\n",
       "<table border=\"1\" class=\"dataframe\">\n",
       "  <thead>\n",
       "    <tr style=\"text-align: right;\">\n",
       "      <th></th>\n",
       "      <th>ID</th>\n",
       "      <th>Age</th>\n",
       "      <th>Experience</th>\n",
       "      <th>Revenu Millier</th>\n",
       "      <th>Famille</th>\n",
       "      <th>Dépense mensuellesmoyenne</th>\n",
       "      <th>Education</th>\n",
       "      <th>Compte Epargne Logement</th>\n",
       "      <th>Prêt Personnel</th>\n",
       "    </tr>\n",
       "  </thead>\n",
       "  <tbody>\n",
       "    <tr>\n",
       "      <th>0</th>\n",
       "      <td>1</td>\n",
       "      <td>25</td>\n",
       "      <td>1</td>\n",
       "      <td>49</td>\n",
       "      <td>4</td>\n",
       "      <td>1600</td>\n",
       "      <td>1</td>\n",
       "      <td>Non</td>\n",
       "      <td>Non</td>\n",
       "    </tr>\n",
       "    <tr>\n",
       "      <th>1</th>\n",
       "      <td>2</td>\n",
       "      <td>45</td>\n",
       "      <td>19</td>\n",
       "      <td>34</td>\n",
       "      <td>3</td>\n",
       "      <td>1500</td>\n",
       "      <td>1</td>\n",
       "      <td>Non</td>\n",
       "      <td>Non</td>\n",
       "    </tr>\n",
       "    <tr>\n",
       "      <th>2</th>\n",
       "      <td>3</td>\n",
       "      <td>39</td>\n",
       "      <td>15</td>\n",
       "      <td>11</td>\n",
       "      <td>1</td>\n",
       "      <td>1000</td>\n",
       "      <td>1</td>\n",
       "      <td>Non</td>\n",
       "      <td>Non</td>\n",
       "    </tr>\n",
       "    <tr>\n",
       "      <th>3</th>\n",
       "      <td>4</td>\n",
       "      <td>35</td>\n",
       "      <td>9</td>\n",
       "      <td>100</td>\n",
       "      <td>1</td>\n",
       "      <td>2700</td>\n",
       "      <td>2</td>\n",
       "      <td>Non</td>\n",
       "      <td>Non</td>\n",
       "    </tr>\n",
       "    <tr>\n",
       "      <th>4</th>\n",
       "      <td>5</td>\n",
       "      <td>35</td>\n",
       "      <td>8</td>\n",
       "      <td>45</td>\n",
       "      <td>4</td>\n",
       "      <td>1000</td>\n",
       "      <td>2</td>\n",
       "      <td>Non</td>\n",
       "      <td>Non</td>\n",
       "    </tr>\n",
       "  </tbody>\n",
       "</table>\n",
       "</div>"
      ],
      "text/plain": [
       "   ID  Age  Experience  Revenu Millier   Famille  Dépense mensuellesmoyenne    \\\n",
       "0   1   25           1               49        4                         1600   \n",
       "1   2   45          19               34        3                         1500   \n",
       "2   3   39          15               11        1                         1000   \n",
       "3   4   35           9              100        1                         2700   \n",
       "4   5   35           8               45        4                         1000   \n",
       "\n",
       "   Education Compte Epargne Logement Prêt Personnel  \n",
       "0          1                     Non            Non  \n",
       "1          1                     Non            Non  \n",
       "2          1                     Non            Non  \n",
       "3          2                     Non            Non  \n",
       "4          2                     Non            Non  "
      ]
     },
     "execution_count": 2,
     "metadata": {},
     "output_type": "execute_result"
    }
   ],
   "source": [
    "df=pd.read_csv(\"C:/Users/tyuiop/Desktop/Perron//Banque.csv\", decimal=',',sep=\";\", encoding=\"latin1\") \n",
    "df.head()"
   ]
  },
  {
   "cell_type": "markdown",
   "id": "1a385ad1-d339-422b-bb54-91cf3c01fbff",
   "metadata": {},
   "source": [
    "**Description statistique pour chaque variable**\n"
   ]
  },
  {
   "cell_type": "markdown",
   "id": "3920dc46-7f57-45a4-806d-c0c1551c3de1",
   "metadata": {
    "tags": []
   },
   "source": [
    "***I) Variables Quantitatives***"
   ]
  },
  {
   "cell_type": "code",
   "execution_count": 3,
   "id": "94e95c04-06cc-4360-a0fb-141397002b82",
   "metadata": {
    "tags": []
   },
   "outputs": [
    {
     "data": {
      "text/plain": [
       "count    4894.000000\n",
       "mean       45.333265\n",
       "std        11.474275\n",
       "min        23.000000\n",
       "25%        35.000000\n",
       "50%        45.000000\n",
       "75%        55.000000\n",
       "max        67.000000\n",
       "Name: Age, dtype: float64"
      ]
     },
     "execution_count": 3,
     "metadata": {},
     "output_type": "execute_result"
    }
   ],
   "source": [
    "df['Age'].describe()\n"
   ]
  },
  {
   "cell_type": "code",
   "execution_count": 4,
   "id": "8fcfbc89-f659-406b-aef8-96bea0b5fba1",
   "metadata": {
    "tags": []
   },
   "outputs": [
    {
     "data": {
      "text/plain": [
       "count    4894.000000\n",
       "mean       20.088680\n",
       "std        11.475238\n",
       "min        -3.000000\n",
       "25%        10.000000\n",
       "50%        20.000000\n",
       "75%        30.000000\n",
       "max        43.000000\n",
       "Name: Experience, dtype: float64"
      ]
     },
     "execution_count": 4,
     "metadata": {},
     "output_type": "execute_result"
    }
   ],
   "source": [
    "df['Experience'].describe()\n"
   ]
  },
  {
   "cell_type": "code",
   "execution_count": 5,
   "id": "59e564a7-03e4-4691-9196-0aca89506684",
   "metadata": {
    "tags": []
   },
   "outputs": [
    {
     "data": {
      "text/plain": [
       "count    4894.000000\n",
       "mean       73.684716\n",
       "std        46.045208\n",
       "min         8.000000\n",
       "25%        39.000000\n",
       "50%        63.000000\n",
       "75%        98.000000\n",
       "max       224.000000\n",
       "Name: Revenu Millier, dtype: float64"
      ]
     },
     "execution_count": 5,
     "metadata": {},
     "output_type": "execute_result"
    }
   ],
   "source": [
    "# Renommer la colonne en supprimant l'espace à la fin\n",
    "df.rename(columns={'Revenu Millier ': 'Revenu Millier'}, inplace=True)\n",
    "\n",
    "# Maintenant, tu peux utiliser la commande sans l'espace\n",
    "df['Revenu Millier'].describe()\n"
   ]
  },
  {
   "cell_type": "code",
   "execution_count": 6,
   "id": "eba087d7-eaf4-402d-b92a-19fd6703c29f",
   "metadata": {
    "tags": []
   },
   "outputs": [
    {
     "data": {
      "text/plain": [
       "count    4894.000000\n",
       "mean        2.405394\n",
       "std         1.149174\n",
       "min         1.000000\n",
       "25%         1.000000\n",
       "50%         2.000000\n",
       "75%         3.000000\n",
       "max         4.000000\n",
       "Name: Famille, dtype: float64"
      ]
     },
     "execution_count": 6,
     "metadata": {},
     "output_type": "execute_result"
    }
   ],
   "source": [
    "df['Famille'].describe()\n"
   ]
  },
  {
   "cell_type": "code",
   "execution_count": 7,
   "id": "45763a39-57c6-4d44-9b9c-a1fe0133b31e",
   "metadata": {
    "tags": []
   },
   "outputs": [
    {
     "data": {
      "text/plain": [
       "count     4894.000000\n",
       "mean      1979.912137\n",
       "std       1742.801543\n",
       "min        100.000000\n",
       "25%        700.000000\n",
       "50%       1600.000000\n",
       "75%       2600.000000\n",
       "max      10000.000000\n",
       "Name: DepensesMensuelles, dtype: float64"
      ]
     },
     "execution_count": 7,
     "metadata": {},
     "output_type": "execute_result"
    }
   ],
   "source": [
    "\n",
    "\n",
    "# Renommer la colonne en supprimant l'espace à la fin\n",
    "df.rename(columns={'Dépense mensuellesmoyenne  ': 'DepensesMensuelles'}, inplace=True)\n",
    "\n",
    "# Maintenant, tu peux utiliser la commande avec le nouveau nom\n",
    "df['DepensesMensuelles'].describe()\n"
   ]
  },
  {
   "cell_type": "code",
   "execution_count": 8,
   "id": "4453383c-6fcc-42a8-a8f7-7b8f40545a79",
   "metadata": {
    "tags": []
   },
   "outputs": [
    {
     "name": "stdout",
     "output_type": "stream",
     "text": [
      "Index(['ID', 'Age', 'Experience', 'Revenu Millier', 'Famille',\n",
      "       'DepensesMensuelles', 'Education', 'Compte Epargne Logement',\n",
      "       'Prêt Personnel'],\n",
      "      dtype='object')\n"
     ]
    }
   ],
   "source": [
    "# Vérifier que la colonne a été renommée\n",
    "print(df.columns)"
   ]
  },
  {
   "cell_type": "markdown",
   "id": "2bc5fa73-a18d-4dbf-b827-d2341ea0333c",
   "metadata": {},
   "source": [
    "***II) Variables Qualitatives***"
   ]
  },
  {
   "cell_type": "code",
   "execution_count": 9,
   "id": "2f9f72a9-4963-436e-a824-66d90a5851e7",
   "metadata": {
    "tags": []
   },
   "outputs": [
    {
     "name": "stdout",
     "output_type": "stream",
     "text": [
      "Fréquences pour la variable 'Education':\n",
      " Education\n",
      "1    0.415815\n",
      "3    0.301389\n",
      "2    0.282795\n",
      "Name: proportion, dtype: float64\n",
      "\n",
      "Effectifs pour la variable 'Education':\n",
      " Education\n",
      "1    2035\n",
      "3    1475\n",
      "2    1384\n",
      "Name: count, dtype: int64\n"
     ]
    }
   ],
   "source": [
    "# Calculer les fréquences et les effectifs pour la variable qualitative \"Education\"\n",
    "frequence_education = df['Education'].value_counts(normalize=True)  # Fréquences\n",
    "effectif_education = df['Education'].value_counts()               # Effectifs\n",
    "\n",
    "# Afficher les résultats\n",
    "print(\"Fréquences pour la variable 'Education':\\n\", frequence_education)\n",
    "print(\"\\nEffectifs pour la variable 'Education':\\n\", effectif_education)\n",
    "\n",
    "\n",
    "\n"
   ]
  },
  {
   "cell_type": "code",
   "execution_count": 10,
   "id": "4da6d389-f2ba-4318-a43c-5a852b1b92d9",
   "metadata": {
    "tags": []
   },
   "outputs": [
    {
     "name": "stdout",
     "output_type": "stream",
     "text": [
      "Fréquences pour la variable 'EpargneLogement':\n",
      " EpargneLogement\n",
      "Non    0.9387\n",
      "Oui    0.0613\n",
      "Name: proportion, dtype: float64\n",
      "\n",
      "Effectifs pour la variable 'EpargneLogement':\n",
      " EpargneLogement\n",
      "Non    4594\n",
      "Oui     300\n",
      "Name: count, dtype: int64\n"
     ]
    }
   ],
   "source": [
    "# Renommer la colonne\n",
    "df.rename(columns={'Compte Epargne Logement': 'EpargneLogement'}, inplace=True)\n",
    "\n",
    "# Calculer les fréquences et les effectifs pour la variable qualitative \"EpargneLogement\"\n",
    "frequence_epargne_logement = df['EpargneLogement'].value_counts(normalize=True)  # Fréquences\n",
    "effectif_epargne_logement = df['EpargneLogement'].value_counts()               # Effectifs\n",
    "\n",
    "# Afficher les résultats\n",
    "print(\"Fréquences pour la variable 'EpargneLogement':\\n\", frequence_epargne_logement)\n",
    "print(\"\\nEffectifs pour la variable 'EpargneLogement':\\n\", effectif_epargne_logement)\n"
   ]
  },
  {
   "cell_type": "code",
   "execution_count": 11,
   "id": "06ee7d3e-015f-4a9d-a45c-b8a42b50e9fe",
   "metadata": {
    "tags": []
   },
   "outputs": [
    {
     "name": "stdout",
     "output_type": "stream",
     "text": [
      "Fréquences pour la variable 'Prêt Personnel':\n",
      " Prêt Personnel\n",
      "Non    0.902125\n",
      "Oui    0.097875\n",
      "Name: proportion, dtype: float64\n",
      "\n",
      "Effectifs pour la variable 'Prêt Personnel':\n",
      " Prêt Personnel\n",
      "Non    4415\n",
      "Oui     479\n",
      "Name: count, dtype: int64\n"
     ]
    }
   ],
   "source": [
    "# Calculer les fréquences et les effectifs pour la variable qualitative \"Prêt Personnel\"\n",
    "frequence_pret_personnel = df['Prêt Personnel'].value_counts(normalize=True)  # Fréquences\n",
    "effectif_pret_personnel = df['Prêt Personnel'].value_counts()               # Effectifs\n",
    "\n",
    "# Afficher les résultats\n",
    "print(\"Fréquences pour la variable 'Prêt Personnel':\\n\", frequence_pret_personnel)\n",
    "print(\"\\nEffectifs pour la variable 'Prêt Personnel':\\n\", effectif_pret_personnel)\n"
   ]
  },
  {
   "cell_type": "markdown",
   "id": "80e87098-7a53-454c-b755-ac1263ebde45",
   "metadata": {
    "tags": []
   },
   "source": [
    "# Partie 2 : Relation entre variables et visualisation des données\n",
    "<div style=\"background-color: #ADD8E6; padding: 10px; border-radius: 5px; margin: 10px 0;\">\n",
    "    <p style=\"color: #000080; font-weight: bold;\">Note sur la démarche :</p>\n",
    "    <p>Nous adoptons une approche méthodique pour explorer les relations entre les variables. Chaque analyse est suivie de représentations graphiques conformément aux instructions, et nous concluons chaque section en appliquant les tests statistiques appropriés pour étayer nos observations.</p>\n",
    "</div>\n"
   ]
  },
  {
   "cell_type": "markdown",
   "id": "edb905b7-e96f-4a59-8505-bb612911cf2a",
   "metadata": {},
   "source": [
    "Prêt Personnel selon l'âge\n"
   ]
  },
  {
   "cell_type": "code",
   "execution_count": 12,
   "id": "ca4e9cf1-57d1-485c-9b91-1049091bd0ce",
   "metadata": {
    "tags": []
   },
   "outputs": [
    {
     "name": "stdout",
     "output_type": "stream",
     "text": [
      "Statistiques descriptives pour 'Prêt Personnel' selon l'âge:\n",
      "                  count       mean        std   min   25%   50%   75%   max\n",
      "Prêt Personnel                                                            \n",
      "Non             4415.0  45.359003  11.463205  23.0  35.0  45.0  55.0  67.0\n",
      "Oui              479.0  45.096033  11.585193  26.0  35.0  45.0  55.0  65.0\n"
     ]
    }
   ],
   "source": [
    "# Statistiques descriptives pour 'Prêt Personnel' selon l'âge\n",
    "stats_age_pret_personnel = df.groupby('Prêt Personnel')['Age'].describe()\n",
    "\n",
    "# Afficher les résultats\n",
    "print(\"Statistiques descriptives pour 'Prêt Personnel' selon l'âge:\\n\", stats_age_pret_personnel)\n"
   ]
  },
  {
   "cell_type": "code",
   "execution_count": 13,
   "id": "38d91a5b-365f-491e-8b76-360508bde0d2",
   "metadata": {
    "tags": []
   },
   "outputs": [
    {
     "data": {
      "image/png": "[encoded data removed]",
      "text/plain": [
       "<Figure size 1000x600 with 1 Axes>"
      ]
     },
     "metadata": {},
     "output_type": "display_data"
    }
   ],
   "source": [
    "import seaborn as sns\n",
    "import matplotlib.pyplot as plt\n",
    "\n",
    "# Boxplot pour 'Prêt Personnel' et 'Age'\n",
    "plt.figure(figsize=(10, 6))\n",
    "sns.boxplot(x='Prêt Personnel', y='Age', data=df)\n",
    "plt.title('Relation entre Prêt Personnel et l\\'âge')\n",
    "plt.show()\n"
   ]
  },
  {
   "cell_type": "code",
   "execution_count": 14,
   "id": "bad717f5-bc58-471e-a8c1-bd9702ef2762",
   "metadata": {
    "tags": []
   },
   "outputs": [
    {
     "name": "stdout",
     "output_type": "stream",
     "text": [
      "Test ANOVA : statistique = 0.22693187741696996, p-value = 0.6338294614977877\n"
     ]
    }
   ],
   "source": [
    "from scipy.stats import f_oneway\n",
    "\n",
    "# Diviser le DataFrame en groupes selon 'Prêt Personnel'\n",
    "groupes = [df['Age'][df['Prêt Personnel'] == cat] for cat in df['Prêt Personnel'].unique()]\n",
    "\n",
    "# Effectuer le test ANOVA\n",
    "statistique, p_value = f_oneway(*groupes)\n",
    "print(f\"Test ANOVA : statistique = {statistique}, p-value = {p_value}\")\n"
   ]
  },
  {
   "cell_type": "markdown",
   "id": "3923b135-8121-41f2-9830-0737a4153822",
   "metadata": {},
   "source": [
    "Prêt Personnel selon l'Experience"
   ]
  },
  {
   "cell_type": "code",
   "execution_count": 15,
   "id": "63a137cf-7d3f-42f8-9574-a94aa4021061",
   "metadata": {
    "tags": []
   },
   "outputs": [
    {
     "name": "stdout",
     "output_type": "stream",
     "text": [
      "Statistiques descriptives pour 'Prêt Personnel' selon l'expérience:\n",
      "                  count       mean        std  min   25%   50%   75%   max\n",
      "Prêt Personnel                                                           \n",
      "Non             4415.0  20.112344  11.464927 -3.0  10.0  20.0  30.0  43.0\n",
      "Oui              479.0  19.870564  11.579629  0.0   9.0  20.0  30.0  41.0\n"
     ]
    }
   ],
   "source": [
    "# Statistiques descriptives pour 'Prêt Personnel' selon l'expérience\n",
    "stats_experience_pret_personnel = df.groupby('Prêt Personnel')['Experience'].describe()\n",
    "\n",
    "# Afficher les résultats\n",
    "print(\"Statistiques descriptives pour 'Prêt Personnel' selon l'expérience:\\n\", stats_experience_pret_personnel)\n"
   ]
  },
  {
   "cell_type": "code",
   "execution_count": 16,
   "id": "a9fd624e-fab2-46d8-8af6-035bcb2b818b",
   "metadata": {
    "tags": []
   },
   "outputs": [
    {
     "name": "stdout",
     "output_type": "stream",
     "text": [
      "Test t de Student pour 'Prêt Personnel' selon l'expérience : statistique = -0.4379505082758312, p-value = 0.6614414963796524\n"
     ]
    }
   ],
   "source": [
    "from scipy.stats import ttest_ind\n",
    "\n",
    "# Diviser le DataFrame en deux groupes selon 'Prêt Personnel'\n",
    "groupe_oui_exp = df[df['Prêt Personnel'] == 'Oui']['Experience']\n",
    "groupe_non_exp = df[df['Prêt Personnel'] == 'Non']['Experience']\n",
    "\n",
    "# Effectuer le test t de Student\n",
    "statistique, p_value = ttest_ind(groupe_oui_exp, groupe_non_exp)\n",
    "print(f\"Test t de Student pour 'Prêt Personnel' selon l'expérience : statistique = {statistique}, p-value = {p_value}\")\n"
   ]
  },
  {
   "cell_type": "code",
   "execution_count": 17,
   "id": "ddd4034d-31fc-4b2f-a64c-df1982d24f0f",
   "metadata": {
    "tags": []
   },
   "outputs": [
    {
     "name": "stdout",
     "output_type": "stream",
     "text": [
      "Test ANOVA pour 'Prêt Personnel' selon l'expérience : statistique = 0.19180064769905497, p-value = 0.661441496379745\n"
     ]
    }
   ],
   "source": [
    "from scipy.stats import f_oneway\n",
    "\n",
    "# Diviser le DataFrame en groupes selon 'Prêt Personnel'\n",
    "groupes_experience = [df['Experience'][df['Prêt Personnel'] == cat] for cat in df['Prêt Personnel'].unique()]\n",
    "\n",
    "# Effectuer le test ANOVA\n",
    "statistique, p_value = f_oneway(*groupes_experience)\n",
    "print(f\"Test ANOVA pour 'Prêt Personnel' selon l'expérience : statistique = {statistique}, p-value = {p_value}\")\n"
   ]
  },
  {
   "cell_type": "code",
   "execution_count": 18,
   "id": "b17d6e93-5f06-4114-b6ad-f15a4ffd2eb5",
   "metadata": {
    "tags": []
   },
   "outputs": [
    {
     "data": {
      "image/png": "[encoded data removed]",
      "text/plain": [
       "<Figure size 1000x600 with 1 Axes>"
      ]
     },
     "metadata": {},
     "output_type": "display_data"
    }
   ],
   "source": [
    "import seaborn as sns\n",
    "import matplotlib.pyplot as plt\n",
    "\n",
    "# Boxplot pour 'Prêt Personnel' selon l'expérience\n",
    "plt.figure(figsize=(10, 6))\n",
    "sns.boxplot(x='Prêt Personnel', y='Experience', data=df)\n",
    "plt.title('Relation entre Prêt Personnel et l\\'expérience')\n",
    "plt.show()\n"
   ]
  },
  {
   "cell_type": "markdown",
   "id": "9fa74f3f-2d13-4413-ac3e-5d9b1a61f4d5",
   "metadata": {},
   "source": [
    "Prêt Personnel selon le Revenu Millier'"
   ]
  },
  {
   "cell_type": "code",
   "execution_count": 19,
   "id": "81ffcc2b-312d-40a0-8397-7a70b1b4b7ab",
   "metadata": {
    "tags": []
   },
   "outputs": [
    {
     "name": "stdout",
     "output_type": "stream",
     "text": [
      "Statistiques descriptives pour 'Prêt Personnel' selon le revenu:\n",
      "                  count        mean        std   min    25%    50%    75%  \\\n",
      "Prêt Personnel                                                             \n",
      "Non             4415.0   65.985730  40.456626   8.0   35.0   59.0   84.0   \n",
      "Oui              479.0  144.647182  31.543335  60.0  122.0  142.0  172.0   \n",
      "\n",
      "                  max  \n",
      "Prêt Personnel         \n",
      "Non             224.0  \n",
      "Oui             203.0  \n"
     ]
    }
   ],
   "source": [
    "# Statistiques descriptives pour 'Prêt Personnel' selon le revenu\n",
    "stats_revenu_pret_personnel = df.groupby('Prêt Personnel')['Revenu Millier'].describe()\n",
    "\n",
    "# Afficher les résultats\n",
    "print(\"Statistiques descriptives pour 'Prêt Personnel' selon le revenu:\\n\", stats_revenu_pret_personnel)\n"
   ]
  },
  {
   "cell_type": "code",
   "execution_count": 20,
   "id": "95eab523-9ef0-48ea-bb9f-88a0ab02590f",
   "metadata": {
    "tags": []
   },
   "outputs": [
    {
     "name": "stdout",
     "output_type": "stream",
     "text": [
      "Test ANOVA pour 'Prêt Personnel' selon le revenu : statistique = 1698.6838379792669, p-value = 5.38556e-319\n"
     ]
    }
   ],
   "source": [
    "from scipy.stats import f_oneway\n",
    "\n",
    "# Diviser le DataFrame en groupes selon 'Prêt Personnel'\n",
    "groupes_revenu = [df['Revenu Millier'][df['Prêt Personnel'] == cat] for cat in df['Prêt Personnel'].unique()]\n",
    "\n",
    "# Effectuer le test ANOVA\n",
    "statistique, p_value = f_oneway(*groupes_revenu)\n",
    "print(f\"Test ANOVA pour 'Prêt Personnel' selon le revenu : statistique = {statistique}, p-value = {p_value}\")\n"
   ]
  },
  {
   "cell_type": "code",
   "execution_count": 21,
   "id": "2ac448ae-5972-4f0a-89d5-58bb3b9c77af",
   "metadata": {
    "tags": []
   },
   "outputs": [
    {
     "data": {
      "image/png": "[encoded data removed]",
      "text/plain": [
       "<Figure size 1000x600 with 1 Axes>"
      ]
     },
     "metadata": {},
     "output_type": "display_data"
    }
   ],
   "source": [
    "import seaborn as sns\n",
    "import matplotlib.pyplot as plt\n",
    "\n",
    "# Boxplot pour 'Prêt Personnel' selon le revenu\n",
    "plt.figure(figsize=(10, 6))\n",
    "sns.boxplot(x='Prêt Personnel', y='Revenu Millier', data=df)\n",
    "plt.title('Relation entre Prêt Personnel et le revenu')\n",
    "plt.show()\n"
   ]
  },
  {
   "cell_type": "markdown",
   "id": "539bc082-1cbd-41e7-9fc3-dcc49d4f5f95",
   "metadata": {},
   "source": [
    "Prêt Personnel selon la variable 'Famille'"
   ]
  },
  {
   "cell_type": "code",
   "execution_count": 33,
   "id": "50afbe32-9a20-4c97-afaf-2370a84270d8",
   "metadata": {
    "tags": []
   },
   "outputs": [
    {
     "name": "stdout",
     "output_type": "stream",
     "text": [
      "Statistiques descriptives pour 'Prêt Personnel' selon la variable 'Famille':\n",
      "         count unique  top  freq\n",
      "Famille                        \n",
      "1        1436      2  Non  1330\n",
      "2        1243      2  Non  1137\n",
      "3        1010      2  Non   877\n",
      "4        1205      2  Non  1071\n"
     ]
    }
   ],
   "source": [
    "# Statistiques descriptives pour 'Prêt Personnel' selon la variable 'Famille'\n",
    "stats_famille_pret_personnel = df.groupby('Famille')['Prêt Personnel'].describe()   \n",
    "\n",
    "# Afficher les résultats\n",
    "print(\"Statistiques descriptives pour 'Prêt Personnel' selon la variable 'Famille':\\n\", stats_famille_pret_personnel)\n"
   ]
  },
  {
   "cell_type": "code",
   "execution_count": 34,
   "id": "be3aece7-64b0-4961-a88a-1e25f46b2010",
   "metadata": {
    "tags": []
   },
   "outputs": [
    {
     "name": "stdout",
     "output_type": "stream",
     "text": [
      "Test t de Student pour 'Prêt Personnel' selon la variable 'Famille' : statistique = 4.227567551570957, p-value = 2.4053932358280718e-05\n"
     ]
    }
   ],
   "source": [
    "from scipy.stats import ttest_ind\n",
    "\n",
    "# Diviser le DataFrame en deux groupes selon 'Prêt Personnel'\n",
    "groupe_oui_famille = df[df['Prêt Personnel'] == 'Oui']['Famille']\n",
    "groupe_non_famille = df[df['Prêt Personnel'] == 'Non']['Famille']\n",
    "\n",
    "# Effectuer le test t de Student\n",
    "statistique, p_value = ttest_ind(groupe_oui_famille, groupe_non_famille)\n",
    "print(f\"Test t de Student pour 'Prêt Personnel' selon la variable 'Famille' : statistique = {statistique}, p-value = {p_value}\")\n"
   ]
  },
  {
   "cell_type": "code",
   "execution_count": 32,
   "id": "26b770a5-5082-4ba5-b07a-48bfa7959ef3",
   "metadata": {
    "tags": []
   },
   "outputs": [
    {
     "name": "stdout",
     "output_type": "stream",
     "text": [
      "Test ANOVA pour 'Prêt Personnel' selon la variable 'Famille' : statistique = 17.8723274030957, p-value = 2.405393235828769e-05\n"
     ]
    }
   ],
   "source": [
    "from scipy.stats import f_oneway\n",
    "\n",
    "# Diviser le DataFrame en groupes selon 'Prêt Personnel'\n",
    "groupes_famille = [df['Famille'][df['Prêt Personnel'] == cat] for cat in df['Prêt Personnel'].unique()]\n",
    "\n",
    "# Effectuer le test ANOVA\n",
    "statistique, p_value = f_oneway(*groupes_famille)\n",
    "print(f\"Test ANOVA pour 'Prêt Personnel' selon la variable 'Famille' : statistique = {statistique}, p-value = {p_value}\")\n"
   ]
  },
  {
   "cell_type": "code",
   "execution_count": 37,
   "id": "05e086fe-8916-453f-931c-fdb27791ef69",
   "metadata": {
    "tags": []
   },
   "outputs": [
    {
     "data": {
      "image/png": "[encoded data removed]",
      "text/plain": [
       "<Figure size 1000x600 with 1 Axes>"
      ]
     },
     "metadata": {},
     "output_type": "display_data"
    }
   ],
   "source": [
    "import seaborn as sns\n",
    "import matplotlib.pyplot as plt\n",
    "\n",
    "# Boxplot pour 'Prêt Personnel' selon la variable 'Famille'\n",
    "plt.figure(figsize=(10, 6))\n",
    "sns.boxplot(x='Famille', y='Prêt Personnel', data=df)\n",
    "plt.title('Relation entre Prêt Personnel et la variable Famille')\n",
    "plt.show()\n"
   ]
  },
  {
   "cell_type": "code",
   "execution_count": 26,
   "id": "f30e4cad-c060-4529-b5cb-a297271830f5",
   "metadata": {
    "tags": []
   },
   "outputs": [
    {
     "ename": "SyntaxError",
     "evalue": "invalid syntax (1288229219.py, line 1)",
     "output_type": "error",
     "traceback": [
      "\u001b[1;36m  Cell \u001b[1;32mIn[26], line 1\u001b[1;36m\u001b[0m\n\u001b[1;33m    Prêt Personnel selon la variable 'DepensesMensuelles'\u001b[0m\n\u001b[1;37m         ^\u001b[0m\n\u001b[1;31mSyntaxError\u001b[0m\u001b[1;31m:\u001b[0m invalid syntax\n"
     ]
    }
   ],
   "source": [
    "Prêt Personnel selon la variable 'DepensesMensuelles'"
   ]
  },
  {
   "cell_type": "code",
   "execution_count": null,
   "id": "34e9c65a-aef0-4627-8721-10c059a81b20",
   "metadata": {
    "tags": []
   },
   "outputs": [],
   "source": [
    "# Statistiques descriptives pour 'Prêt Personnel' selon les dépenses mensuelles\n",
    "stats_depenses_pret_personnel = df.groupby('Prêt Personnel')['DepensesMensuelles'].describe()\n",
    "\n",
    "# Afficher les résultats\n",
    "print(\"Statistiques descriptives pour 'Prêt Personnel' selon les dépenses mensuelles:\\n\", stats_depenses_pret_personnel)\n"
   ]
  },
  {
   "cell_type": "code",
   "execution_count": null,
   "id": "96af2fe5-f621-42cb-b79c-73727ca7222d",
   "metadata": {
    "tags": []
   },
   "outputs": [],
   "source": [
    "from scipy.stats import ttest_ind\n",
    "\n",
    "# Diviser le DataFrame en deux groupes selon 'Prêt Personnel'\n",
    "groupe_oui_depenses = df[df['Prêt Personnel'] == 'Oui']['DepensesMensuelles']\n",
    "groupe_non_depenses = df[df['Prêt Personnel'] == 'Non']['DepensesMensuelles']\n",
    "\n",
    "# Effectuer le test t de Student\n",
    "statistique, p_value = ttest_ind(groupe_oui_depenses, groupe_non_depenses)\n",
    "print(f\"Test t de Student pour 'Prêt Personnel' selon les dépenses mensuelles : statistique = {statistique}, p-value = {p_value}\")\n"
   ]
  },
  {
   "cell_type": "code",
   "execution_count": null,
   "id": "71fb9012-46c9-40fa-b076-b6f5ba017d61",
   "metadata": {
    "tags": []
   },
   "outputs": [],
   "source": [
    "from scipy.stats import f_oneway\n",
    "\n",
    "# Diviser le DataFrame en groupes selon 'Prêt Personnel'\n",
    "groupes_depenses = [df['DepensesMensuelles'][df['Prêt Personnel'] == cat] for cat in df['Prêt Personnel'].unique()]\n",
    "\n",
    "# Effectuer le test ANOVA\n",
    "statistique, p_value = f_oneway(*groupes_depenses)\n",
    "print(f\"Test ANOVA pour 'Prêt Personnel' selon les dépenses mensuelles : statistique = {statistique}, p-value = {p_value}\")\n"
   ]
  },
  {
   "cell_type": "code",
   "execution_count": null,
   "id": "26f1d26b-f98c-4cc8-bdbf-c9b9c50ed0ca",
   "metadata": {
    "tags": []
   },
   "outputs": [],
   "source": [
    "import seaborn as sns\n",
    "import matplotlib.pyplot as plt\n",
    "\n",
    "# Boxplot pour 'Prêt Personnel' selon les dépenses mensuelles\n",
    "plt.figure(figsize=(10, 6))\n",
    "sns.boxplot(x='Prêt Personnel', y='DepensesMensuelles', data=df)\n",
    "plt.title('Relation entre Prêt Personnel et les dépenses mensuelles')\n",
    "plt.show()\n"
   ]
  },
  {
   "cell_type": "code",
   "execution_count": null,
   "id": "399ca90c-f76e-428a-b950-2493bb5fc369",
   "metadata": {
    "tags": []
   },
   "outputs": [],
   "source": [
    "Prêt Personnel selon la variable 'Education'"
   ]
  },
  {
   "cell_type": "code",
   "execution_count": null,
   "id": "fca3f11a-deff-432b-afac-4da6b107e679",
   "metadata": {
    "tags": []
   },
   "outputs": [],
   "source": [
    "# Tableau croisé dynamique entre 'Prêt Personnel' et 'Education'\n",
    "tableau_croise = pd.crosstab(df['Prêt Personnel'], df['Education'])\n",
    "\n",
    "# Afficher le tableau croisé\n",
    "print(\"Tableau croisé dynamique entre 'Prêt Personnel' et 'Education':\\n\", tableau_croise)\n"
   ]
  },
  {
   "cell_type": "code",
   "execution_count": null,
   "id": "b5b1e55d-956a-4b7a-97a2-dfbf817be268",
   "metadata": {
    "tags": []
   },
   "outputs": [],
   "source": [
    "tab2=pd.crosstab(df['Prêt Personnel'], df['Education'],normalize='index')\n",
    "tab2"
   ]
  },
  {
   "cell_type": "code",
   "execution_count": null,
   "id": "ac3df7fa-a7be-4259-ad26-212486a0843c",
   "metadata": {
    "tags": []
   },
   "outputs": [],
   "source": [
    "round(100*tab2,2)"
   ]
  },
  {
   "cell_type": "code",
   "execution_count": null,
   "id": "cbefab37-fad1-4716-822b-96f42d42e62e",
   "metadata": {
    "tags": []
   },
   "outputs": [],
   "source": [
    "from scipy.stats import chi2_contingency\n",
    "\n",
    "# Effectuer le test du Chi2 d'indépendance\n",
    "statistique, p_value, _, _ = chi2_contingency(tableau_croise)\n",
    "print(f\"Test du Chi2 d'indépendance entre 'Prêt Personnel' et 'Education' : statistique = {statistique}, p-value = {p_value}\")\n"
   ]
  },
  {
   "cell_type": "code",
   "execution_count": null,
   "id": "116c1c27-d2bb-40fe-8d79-203104272d6d",
   "metadata": {
    "tags": []
   },
   "outputs": [],
   "source": [
    "import seaborn as sns\n",
    "import matplotlib.pyplot as plt\n",
    "\n",
    "# Calculer les fréquences pour 'Prêt Personnel' selon 'Education'\n",
    "freq_table = df.groupby(['Prêt Personnel', 'Education']).size().unstack('Prêt Personnel').apply(lambda x: x / x.sum(), axis=1)\n",
    "\n",
    "# Graphique en barres pour 'Prêt Personnel' selon 'Education' avec fréquences\n",
    "plt.figure(figsize=(10, 6))\n",
    "freq_table.plot(kind='bar', stacked=True)\n",
    "plt.title('Relation entre Prêt Personnel et Education (en fréquences)')\n",
    "plt.xlabel('Education')\n",
    "plt.ylabel('Fréquence')\n",
    "plt.legend(title='Prêt Personnel')\n",
    "plt.show()\n"
   ]
  },
  {
   "cell_type": "code",
   "execution_count": null,
   "id": "b2c0c679-0797-468c-ba74-4e83633dfb14",
   "metadata": {
    "tags": []
   },
   "outputs": [],
   "source": [
    "Prêt Personnel selon la variable 'EpargneLogement'"
   ]
  },
  {
   "cell_type": "code",
   "execution_count": null,
   "id": "597b2a54-48c2-45c0-ae05-58d28689ca90",
   "metadata": {
    "tags": []
   },
   "outputs": [],
   "source": [
    "# Tableau croisé dynamique entre 'Prêt Personnel' et 'EpargneLogement'\n",
    "tableau_croise_epargne = pd.crosstab(df['Prêt Personnel'], df['EpargneLogement'])\n",
    "\n",
    "# Afficher le tableau croisé\n",
    "print(\"Tableau croisé dynamique entre 'Prêt Personnel' et 'EpargneLogement':\\n\", tableau_croise_epargne)\n"
   ]
  },
  {
   "cell_type": "code",
   "execution_count": null,
   "id": "95690a61-bad4-4ff8-8a2e-c8645d986322",
   "metadata": {
    "tags": []
   },
   "outputs": [],
   "source": [
    "tab2=pd.crosstab(df['Prêt Personnel'], df['EpargneLogement'],normalize='index')   \n",
    "tab2"
   ]
  },
  {
   "cell_type": "code",
   "execution_count": null,
   "id": "5a983c99-d0fe-44b7-a1bc-c7518d01d9dc",
   "metadata": {
    "tags": []
   },
   "outputs": [],
   "source": [
    "round(100*tab2,2)"
   ]
  },
  {
   "cell_type": "code",
   "execution_count": null,
   "id": "aa1a176a-b7c5-4b01-b67c-713ed948c519",
   "metadata": {
    "tags": []
   },
   "outputs": [],
   "source": [
    "from scipy.stats import chi2_contingency\n",
    "\n",
    "# Effectuer le test du Chi2 d'indépendance\n",
    "statistique, p_value, _, _ = chi2_contingency(tableau_croise_epargne)\n",
    "print(f\"Test du Chi2 d'indépendance entre 'Prêt Personnel' et 'EpargneLogement' : statistique = {statistique}, p-value = {p_value}\")\n"
   ]
  },
  {
   "cell_type": "code",
   "execution_count": null,
   "id": "21c08a5e-c6f4-44a4-ad89-290b97fa790f",
   "metadata": {
    "tags": []
   },
   "outputs": [],
   "source": [
    "import seaborn as sns\n",
    "import matplotlib.pyplot as plt\n",
    "\n",
    "# Calculer les fréquences pour 'Prêt Personnel' selon 'EpargneLogement'\n",
    "freq_table = df.groupby(['Prêt Personnel', 'EpargneLogement']).size().unstack('Prêt Personnel').apply(lambda x: x / x.sum(), axis=1)\n",
    "\n",
    "# Graphique en barres pour 'Prêt Personnel' selon 'EpargneLogement' avec fréquences\n",
    "plt.figure(figsize=(10, 6))\n",
    "freq_table.plot(kind='bar', stacked=True)\n",
    "plt.title('Relation entre Prêt Personnel et EpargneLogement (en fréquences)')\n",
    "plt.xlabel('EpargneLogement')\n",
    "plt.ylabel('Fréquence')\n",
    "plt.legend(title='Prêt Personnel')\n",
    "plt.show()\n"
   ]
  },
  {
   "cell_type": "code",
   "execution_count": null,
   "id": "d631cd49-04e7-494c-ad6b-954f6281b221",
   "metadata": {
    "tags": []
   },
   "outputs": [],
   "source": [
    "# Pandas, Numpy, os et changement de répertoire de travail\n",
    "import pandas as pd \n",
    "import pandas.plotting as pdl\n",
    "import numpy as np \n",
    "import os\n",
    "#os.chdir('C:/Users/peron/Documents/Travail/Enseignement/NoteBooks/NoteBooksPY')\n",
    "\n",
    "# Scikit-Learn\n",
    "import sklearn as sk\n",
    "from sklearn.datasets import make_classification\n",
    "from sklearn.linear_model import LogisticRegression \n",
    "from sklearn.metrics import roc_auc_score, roc_curve, auc\n",
    "from sklearn.model_selection import train_test_split  ### permet de partager DA et DT\n",
    "from sklearn.model_selection import StratifiedShuffleSplit   ### Fonction qui permet de faire des échantillonnage stratifié\n",
    "from sklearn.metrics import confusion_matrix, accuracy_score, precision_score, recall_score, f1_score\n",
    "# StatsModels\n",
    "\n",
    "import statsmodels.api as sm\n",
    "from statsmodels.discrete.discrete_model import Logit \n",
    "\n",
    "# Pour les graphiques \n",
    "\n",
    "%matplotlib  inline\n",
    "# Ceci permet d'afficher les graphique directement dans l'output du notebbok\n",
    "import matplotlib as mpl\n",
    "import matplotlib.pyplot as plt\n",
    "import seaborn as sns\n",
    "import plotly.express as px\n"
   ]
  },
  {
   "cell_type": "code",
   "execution_count": null,
   "id": "30e59830-bb44-4607-ab69-5c914f73ce08",
   "metadata": {
    "tags": []
   },
   "outputs": [],
   "source": [
    "def evaluate_model(model, X_test, y_true, model_name,plot_roc=False):\n",
    "    # Faire des prédictions\n",
    "    y_predict = model.predict(X_test)\n",
    "    y_pred = ( y_predict > 0.5).astype(int)\n",
    "    \n",
    "    # Calculer la matrice de confusion\n",
    "    conf_matrix = confusion_matrix(y_true, y_pred)\n",
    "    plt.figure(figsize=(4, 3))\n",
    "    sns.heatmap(conf_matrix, annot=True, fmt='d', cmap='Blues',\n",
    "                xticklabels=['Classe 0', 'Classe 1'],\n",
    "                yticklabels=['Classe 0', 'Classe 1'])\n",
    "    plt.xlabel('Valeurs prédites')\n",
    "    plt.ylabel('Valeurs réelles')\n",
    "    plt.title('Matrice de Confusion')\n",
    "    plt.show()\n",
    "\n",
    "    # Calcul des métriques d'évaluation\n",
    "    accuracy = round(accuracy_score(y_true, y_pred),2)\n",
    "    precision = round(precision_score(y_true, y_pred),2)\n",
    "    recall = round(recall_score(y_true, y_pred),2)\n",
    "    \n",
    "\n",
    "    # Affichage des métriques\n",
    "    print('\\033[1m',\"Métriques d'évaluation pour le modèle {} :\".format(model_name), '\\033[0m')\n",
    "    print(\"Exactitude:\", accuracy)\n",
    "    print(\"Précision:\", round(precision, 3))\n",
    "    print(\"Rappel:\", recall)\n",
    "    \n",
    "\n",
    "    # Tracer la courbe ROC\n",
    "    \n",
    "    fpr, tpr, _ = roc_curve(y_true, y_predict)\n",
    "    auc_score = auc(fpr, tpr)\n",
    "    print(\"L'AUC du modèle {} est : {:.4f}\".format(model_name, auc_score))\n",
    "    \n",
    "    if plot_roc:\n",
    "        plt.figure(figsize=(10, 6))\n",
    "        plt.plot(fpr, tpr, color='darkorange', lw=2, label='{} ROC curve (area = {:.2f})'.format(model_name, auc_score))\n",
    "        plt.plot([0, 1], [0, 1], color='navy', lw=2, linestyle='--')\n",
    "        plt.xlabel('Taux de faux positif')\n",
    "        plt.ylabel('Taux de vrai positif')\n",
    "        plt.title('Courbe ROC - {}'.format(model_name))\n",
    "        plt.legend(loc='lower right')\n",
    "        plt.show()\n",
    "    "
   ]
  },
  {
   "cell_type": "code",
   "execution_count": null,
   "id": "f9e3437c-000c-4576-8ef7-742852086a08",
   "metadata": {
    "tags": []
   },
   "outputs": [],
   "source": [
    "df=df.drop(columns=['ID'])\n",
    "var = df.columns\n",
    "print(var)\n"
   ]
  },
  {
   "cell_type": "code",
   "execution_count": null,
   "id": "6d884a27-0a84-4e76-ad32-d7a6ebbdb342",
   "metadata": {
    "tags": []
   },
   "outputs": [],
   "source": [
    "df.columns=['Age','EXP','RM','FAM','DEP','EDU','EL','Prêt']\n"
   ]
  },
  {
   "cell_type": "code",
   "execution_count": null,
   "id": "ab88c792-0d89-4d33-a318-857a33706891",
   "metadata": {
    "tags": []
   },
   "outputs": [],
   "source": [
    "df.head()"
   ]
  },
  {
   "cell_type": "code",
   "execution_count": null,
   "id": "6f891faa-d936-40d1-a835-94f651f43225",
   "metadata": {
    "tags": []
   },
   "outputs": [],
   "source": [
    "df['Prêt'].value_counts()"
   ]
  },
  {
   "cell_type": "code",
   "execution_count": null,
   "id": "0422faf9-3015-449e-89b2-f443e9b17661",
   "metadata": {
    "tags": []
   },
   "outputs": [],
   "source": [
    "df['Prêt'].value_counts(normalize=True)"
   ]
  },
  {
   "cell_type": "code",
   "execution_count": null,
   "id": "6bcb7d25-975c-4f49-b773-701d00122cd0",
   "metadata": {
    "tags": []
   },
   "outputs": [],
   "source": [
    "df.groupby('Prêt')[['FAM','RM']].describe() "
   ]
  },
  {
   "cell_type": "code",
   "execution_count": null,
   "id": "1717d5bc-5a2a-465a-9915-9584bd2c6a56",
   "metadata": {
    "tags": []
   },
   "outputs": [],
   "source": [
    "sns.boxplot(x='Prêt', y='RM',data=df,palette=[\"b\", \"g\"])\n",
    "\n",
    "plt.xlabel(\"Prêt\")\n",
    "plt.ylabel(\"RM\")\n",
    "plt.grid()\n",
    "\n",
    "plt.show()"
   ]
  },
  {
   "cell_type": "code",
   "execution_count": null,
   "id": "1cfda7d2-a17f-4be0-b4a9-51bf22fcdb9b",
   "metadata": {
    "tags": []
   },
   "outputs": [],
   "source": [
    "df.loc[df['RM'] > 160].index"
   ]
  },
  {
   "cell_type": "code",
   "execution_count": null,
   "id": "2d7cdde5-de34-4f78-a746-c8c0e0dbf139",
   "metadata": {
    "tags": []
   },
   "outputs": [],
   "source": [
    "### Intégration des variables qualitatives ###\n",
    "\n",
    "Nous allons transformer ces variables qualitatives en dummy variale"
   ]
  },
  {
   "cell_type": "code",
   "execution_count": null,
   "id": "97049fe1-ac7e-4317-8208-515205c3bb85",
   "metadata": {
    "tags": []
   },
   "outputs": [],
   "source": [
    "df.head()"
   ]
  },
  {
   "cell_type": "code",
   "execution_count": null,
   "id": "848b7d75-f0f1-4a87-8823-de285a6781d3",
   "metadata": {
    "tags": []
   },
   "outputs": [],
   "source": [
    "df2 = pd.get_dummies(df, columns=(['EL']))\n",
    "df2[0:3]"
   ]
  },
  {
   "cell_type": "code",
   "execution_count": null,
   "id": "e0fd1215-5b60-403b-bfb4-fb194a3e34c7",
   "metadata": {
    "tags": []
   },
   "outputs": [],
   "source": [
    "## J'enlève des colonnes pour mes variables explicatives, je transforme True et False en chiffre 0 et 1 et j'ajoute une constante. \n",
    "X2=df2.drop(columns=['EL_Non',\"Prêt\",])\n",
    "X2[\"EL_Oui\"]=X2[\"EL_Oui\"].astype(int)\n",
    "X2 = sm.add_constant(X2)\n",
    "y=df2[\"Prêt\"]==\"Oui\"\n",
    "y=y.astype(int)\n",
    "X2.head()"
   ]
  },
  {
   "cell_type": "code",
   "execution_count": null,
   "id": "846b27c0-648d-4020-9867-087733474c31",
   "metadata": {
    "tags": []
   },
   "outputs": [],
   "source": [
    "y.head(),type(y)"
   ]
  },
  {
   "cell_type": "code",
   "execution_count": null,
   "id": "fe0d9b13-4799-441c-9486-cdc324b069cc",
   "metadata": {
    "tags": []
   },
   "outputs": [],
   "source": [
    "X_a, X_t, y_a, y_t= train_test_split(X2, y, test_size=0.30, random_state=3)"
   ]
  },
  {
   "cell_type": "code",
   "execution_count": null,
   "id": "9bd28844-1d3b-4564-a2fc-2e1ff30253ed",
   "metadata": {
    "tags": []
   },
   "outputs": [],
   "source": [
    "type(y_a),type(X_a)"
   ]
  },
  {
   "cell_type": "code",
   "execution_count": null,
   "id": "ec567205-904c-4b0d-9416-77595a805306",
   "metadata": {
    "tags": []
   },
   "outputs": [],
   "source": [
    "model2 = sm.Logit(y_a, X_a)\n",
    "result2 = model2.fit()\n",
    "\n",
    "result2.summary()"
   ]
  },
  {
   "cell_type": "code",
   "execution_count": null,
   "id": "2115d11d-3a5d-4786-8733-01edbd8f9966",
   "metadata": {
    "tags": []
   },
   "outputs": [],
   "source": [
    "X1_a=X_a.drop(columns=['Age','EXP','DEP'])"
   ]
  },
  {
   "cell_type": "code",
   "execution_count": null,
   "id": "066723c4-ea10-4f7c-8348-c1290ed7cd54",
   "metadata": {
    "tags": []
   },
   "outputs": [],
   "source": [
    "model2 = sm.Logit(y_a, X1_a)\n",
    "result2 = model2.fit()\n",
    "\n",
    "result2.summary()"
   ]
  },
  {
   "cell_type": "code",
   "execution_count": null,
   "id": "203efafe-d64d-4360-ad78-14df27de71c4",
   "metadata": {
    "tags": []
   },
   "outputs": [],
   "source": [
    "evaluate_model(result2,X_t.drop(columns=['Age','EXP','DEP']),y_t,\"Modèle Logit\",plot_roc=True)"
   ]
  },
  {
   "cell_type": "markdown",
   "id": "4de7d441-0282-45cd-a38a-e8d153651e67",
   "metadata": {},
   "source": [
    "###  Les rapports de côtes"
   ]
  },
  {
   "cell_type": "code",
   "execution_count": null,
   "id": "4dae8f45-65c4-47fb-8fdc-64d431a430da",
   "metadata": {
    "tags": []
   },
   "outputs": [],
   "source": [
    "result2.conf_int()"
   ]
  },
  {
   "cell_type": "code",
   "execution_count": null,
   "id": "b754c7a1-2291-4e44-b632-195c7a86d108",
   "metadata": {
    "tags": []
   },
   "outputs": [],
   "source": [
    "RC = np.exp(result2.params)\n",
    "CI = np.exp(result2.conf_int())\n",
    "\n",
    "fig, ax = plt.subplots()\n",
    "RC.plot(ax=ax, kind='bar', yerr=(CI[1] - CI[0])/2, capsize=4)\n",
    "ax.set_title('Rapports de cote avec intervalle de confiance à 95%')\n",
    "plt.show()"
   ]
  },
  {
   "cell_type": "markdown",
   "id": "030ef282-e79b-4890-8889-1bdfe4b7dfee",
   "metadata": {
    "tags": []
   },
   "source": [
    "### **Prevision pour de nouvelles données**"
   ]
  },
  {
   "cell_type": "code",
   "execution_count": null,
   "id": "5eea62f1-af7d-49e1-9162-af52b86e29f6",
   "metadata": {
    "tags": []
   },
   "outputs": [],
   "source": [
    "df_Nvlle=pd.read_csv(\"C:/Users/tyuiop/Desktop/Perron/Banque_Nvlle.csv\", sep=\";\", decimal=\",\",encoding=\"latin1\") \n",
    "df_Nvlle,df_Nvlle.shape"
   ]
  },
  {
   "cell_type": "code",
   "execution_count": null,
   "id": "996f1e89-4203-4345-81c9-98877fb60f5c",
   "metadata": {
    "tags": []
   },
   "outputs": [],
   "source": [
    "df_Nvlle=df_Nvlle.drop(columns=['ID'])\n",
    "df_Nvlle.columns=['Age','EXP','RM','FAM','DEP','EDU','EL']\n",
    "df_Nvlle.head()"
   ]
  },
  {
   "cell_type": "code",
   "execution_count": null,
   "id": "05703e90-1937-4444-8c00-5a830070f583",
   "metadata": {
    "tags": []
   },
   "outputs": [],
   "source": [
    "df_Nvlle1 = pd.get_dummies(df_Nvlle,columns=(['EL']))\n",
    "df_Nvlle1[0:3]"
   ]
  },
  {
   "cell_type": "code",
   "execution_count": null,
   "id": "b9a4c1b6-b94a-43ef-950a-e47c4bc80cea",
   "metadata": {
    "tags": []
   },
   "outputs": [],
   "source": [
    "XN=df_Nvlle1.drop(columns=['EL_Non'])\n",
    "XN[\"EL_Oui\"]=XN[\"EL_Oui\"].astype(int)\n",
    "XN = sm.add_constant(XN)\n",
    "XN.head()"
   ]
  },
  {
   "cell_type": "code",
   "execution_count": null,
   "id": "37e6de65-31e2-4633-a1f7-3365ac690bde",
   "metadata": {
    "tags": []
   },
   "outputs": [],
   "source": [
    "result2.predict(XN)"
   ]
  },
  {
   "cell_type": "code",
   "execution_count": null,
   "id": "e127f3fc-8588-48fa-8004-cf1a00f00ddd",
   "metadata": {
    "tags": []
   },
   "outputs": [],
   "source": [
    "(result2.predict(XN) > 0.5).astype(int)"
   ]
  },
  {
   "cell_type": "markdown",
   "id": "d09ec01e-84fe-41e1-bf84-7ee77fadd935",
   "metadata": {},
   "source": [
    "#### On le fait avec la fonction Logisticregression de Sklearn"
   ]
  },
  {
   "cell_type": "code",
   "execution_count": null,
   "id": "499cdba9-1b82-4995-b8db-0a097e5b325f",
   "metadata": {
    "tags": []
   },
   "outputs": [],
   "source": [
    "model = LogisticRegression(fit_intercept=False)\n",
    "result5_1=model.fit(X1_a, y_a)\n",
    "result5_1.coef_ \n",
    "\n"
   ]
  },
  {
   "cell_type": "code",
   "execution_count": null,
   "id": "5c8df365-a152-4510-b635-135c68aad25f",
   "metadata": {
    "tags": []
   },
   "outputs": [],
   "source": [
    "evaluate_model(result5_1,X_t.drop(columns=['Age','EXP','DEP']),y_t,\"Modèle Logit\",plot_roc=True)"
   ]
  },
  {
   "cell_type": "markdown",
   "id": "67b52421-d034-45f3-be98-093054c6e814",
   "metadata": {},
   "source": [
    "<div class=\"alert alert-block alert-danger\">\n",
    "\n",
    "Pour faire la courbe ROC et l'AUC il faut les probabilités en utilisant cette fonction Logistic regression de Sklearn\n",
    "\n",
    "</div>\n",
    " "
   ]
  },
  {
   "cell_type": "code",
   "execution_count": null,
   "id": "9519822c-ae9f-42a1-be9e-b183a77d7350",
   "metadata": {
    "tags": []
   },
   "outputs": [],
   "source": [
    "y_proba = result5_1.predict_proba(X_t.drop(columns=['Age','EXP','DEP']))\n",
    "fpr, tpr, _ = roc_curve(y_t,y_proba[:, 1])\n",
    "auc_score = auc(fpr, tpr)\n",
    "print(\"L'AUC du modèle est : \" , auc_score)"
   ]
  },
  {
   "cell_type": "code",
   "execution_count": null,
   "id": "05f41884-0853-40ce-9414-a93f77b3bc60",
   "metadata": {
    "tags": []
   },
   "outputs": [],
   "source": [
    "plt.figure(figsize=(10, 6))\n",
    "plt.plot(fpr, tpr, color='darkorange', lw=2, label=' ROC curve (area = {:.2f})'.format(auc_score))\n",
    "plt.plot([0, 1], [0, 1], color='navy', lw=2, linestyle='--')\n",
    "plt.xlabel('Taux de faux positif')\n",
    "plt.ylabel('Taux de vrai positif')\n",
    "plt.title('Courbe ROC - Model Logit pondéré')\n",
    "plt.legend(loc='lower right')\n",
    "plt.show()"
   ]
  },
  {
   "cell_type": "markdown",
   "id": "926ac9b3-7cd0-455c-b673-70ee0d2c3d66",
   "metadata": {},
   "source": [
    "\n",
    "#### **Si on veut maintenant augmenter le poids de la classe 1 qui est déséquilibré, on peut utiliser le poids associé aux données pour les surévaluer.** ####\n",
    "\n",
    "Nous allons utiliser la fonction logistique regression de scikit-learn qui permet d'ajuster le poids des différents éléments.\n",
    "\n",
    "Le problème est que la représentatrion n'est pas terrible du tout.\n"
   ]
  },
  {
   "cell_type": "code",
   "execution_count": null,
   "id": "5710c336-42fa-4abc-9ba0-2605556471bc",
   "metadata": {
    "tags": []
   },
   "outputs": [],
   "source": [
    "model = LogisticRegression(fit_intercept=False,class_weight={0: 1, 1:10})\n",
    "result6=model.fit(X1_a,y_a) "
   ]
  },
  {
   "cell_type": "code",
   "execution_count": null,
   "id": "6e09885a-93aa-4d67-b5ee-72b8994bdfd6",
   "metadata": {
    "tags": []
   },
   "outputs": [],
   "source": [
    "result6.coef_ "
   ]
  },
  {
   "cell_type": "code",
   "execution_count": null,
   "id": "5d7f82b6-0941-41bf-b0db-22fdf04cc2e1",
   "metadata": {
    "tags": []
   },
   "outputs": [],
   "source": [
    "evaluate_model(result6,X_t.drop(columns=['Age','EXP','DEP']),y_t,\"Modèle Logit\",plot_roc=True)"
   ]
  },
  {
   "cell_type": "code",
   "execution_count": null,
   "id": "a6614481-affe-4ac5-8c48-43b820212035",
   "metadata": {
    "tags": []
   },
   "outputs": [],
   "source": [
    "y_proba = result6.predict_proba(X_t.drop(columns=['Age','EXP','DEP']))"
   ]
  },
  {
   "cell_type": "code",
   "execution_count": null,
   "id": "0673da21-91d3-4dc5-81b3-a52b85590a1c",
   "metadata": {
    "tags": []
   },
   "outputs": [],
   "source": [
    "fpr, tpr, _ = roc_curve(y_t,y_proba[:, 1])\n",
    "auc_score = auc(fpr, tpr)\n",
    "print(\"L'AUC du modèle est : \" , auc_score)"
   ]
  },
  {
   "cell_type": "code",
   "execution_count": null,
   "id": "02c8226c-c5ec-4b9b-b0aa-6148a381f57f",
   "metadata": {
    "tags": []
   },
   "outputs": [],
   "source": [
    "plt.figure(figsize=(10, 6))\n",
    "plt.plot(fpr, tpr, color='darkorange', lw=2, label=' ROC curve (area = {:.2f})'.format(auc_score))\n",
    "plt.plot([0, 1], [0, 1], color='navy', lw=2, linestyle='--')\n",
    "plt.xlabel('Taux de faux positif')\n",
    "plt.ylabel('Taux de vrai positif')\n",
    "plt.title('Courbe ROC - Model Logit pondéré')\n",
    "plt.legend(loc='lower right')\n",
    "plt.show()"
   ]
  },
  {
   "cell_type": "markdown",
   "id": "dba52bd8-78d8-4b46-bbf9-f8b343d28884",
   "metadata": {
    "tags": []
   },
   "source": [
    "#### Prévision pour de nouvelles données avec le modèle pondéré"
   ]
  },
  {
   "cell_type": "code",
   "execution_count": null,
   "id": "94d31344-1b67-4793-9a0a-8129f50f5613",
   "metadata": {
    "tags": []
   },
   "outputs": [],
   "source": [
    "XN=df2.drop(columns=['EL_Non'])\n",
    "XN[\"EL_Oui\"]=XN[\"EL_Oui\"].astype(int)\n",
    "XN = sm.add_constant(XN)\n",
    "XN.head()"
   ]
  },
  {
   "cell_type": "code",
   "execution_count": null,
   "id": "97eb5c14-445b-478a-abb7-959f1f721f60",
   "metadata": {
    "tags": []
   },
   "outputs": [],
   "source": []
  },
  {
   "cell_type": "markdown",
   "id": "98019182-348f-4161-8a33-561b7b31d172",
   "metadata": {
    "tags": []
   },
   "source": [
    "## Comparaisons des modèles logit/probit/cloglog"
   ]
  },
  {
   "cell_type": "code",
   "execution_count": null,
   "id": "9b0482d5-94d3-4289-94d1-cb752a3e6be1",
   "metadata": {
    "tags": []
   },
   "outputs": [],
   "source": [
    "logit = sm.GLM(y_a, X_a, family=sm.families.Binomial())\n",
    "result_log=logit.fit()"
   ]
  },
  {
   "cell_type": "code",
   "execution_count": null,
   "id": "b3c4a3ed-0ff6-49db-9283-739ea447ca47",
   "metadata": {
    "tags": []
   },
   "outputs": [],
   "source": [
    "result_log.summary()"
   ]
  },
  {
   "cell_type": "code",
   "execution_count": null,
   "id": "cf5c1413-10ce-4904-9238-d42068c5fb98",
   "metadata": {
    "tags": []
   },
   "outputs": [],
   "source": [
    "probit= sm.GLM(y_a, X_a,family=sm.families.Binomial(link=sm.families.links.probit()))\n",
    "result_probit=probit.fit()\n",
    "result_probit.summary()"
   ]
  },
  {
   "cell_type": "code",
   "execution_count": null,
   "id": "059cafdd-9987-45f2-90d1-8fc37be7b55c",
   "metadata": {
    "tags": []
   },
   "outputs": [],
   "source": [
    "cloglog= sm.GLM(y_a, X_a,family=sm.families.Binomial(link=sm.families.links.CLogLog()))\n",
    "result_cloglog=cloglog.fit()\n",
    "result_cloglog.summary()"
   ]
  },
  {
   "cell_type": "markdown",
   "id": "8626b941-837e-400d-ae45-5bf7e5601047",
   "metadata": {},
   "source": [
    "### Les évaluations des modèles"
   ]
  },
  {
   "cell_type": "code",
   "execution_count": null,
   "id": "0e6f801c-67cc-4348-8c5c-467fe6c9eb2a",
   "metadata": {
    "tags": []
   },
   "outputs": [],
   "source": [
    "evaluate_model(result_log,X_t,y_t,\"Modèle Logit\")"
   ]
  },
  {
   "cell_type": "code",
   "execution_count": null,
   "id": "29ca4cde-419d-4b18-af69-0395aefb23bb",
   "metadata": {
    "tags": []
   },
   "outputs": [],
   "source": [
    "evaluate_model(result_probit,X_t,y_t,\"Modèle Probit\")"
   ]
  },
  {
   "cell_type": "code",
   "execution_count": null,
   "id": "76bf0ff8-3380-48a9-8760-1aba87019a7d",
   "metadata": {
    "tags": []
   },
   "outputs": [],
   "source": [
    "evaluate_model(result_cloglog,X_t,y_t,\"Modèle cloglog\")"
   ]
  },
  {
   "cell_type": "markdown",
   "id": "b1313864-2e42-4d4c-9a61-e5fcefabe259",
   "metadata": {},
   "source": [
    "### Pour les courbes ROC"
   ]
  },
  {
   "cell_type": "code",
   "execution_count": null,
   "id": "16d60c22-4566-4677-a3dc-353a315a090c",
   "metadata": {
    "tags": []
   },
   "outputs": [],
   "source": [
    "## Logit\n",
    "y_predict_L = result_log.predict(X_t)\n",
    "fprL, tprL, _ = roc_curve(y_t, y_predict_L)\n",
    "auc_score_L = auc(fprL, tprL)\n",
    "auc_score_L"
   ]
  },
  {
   "cell_type": "code",
   "execution_count": null,
   "id": "8111f470-66d0-4d4f-b5d2-39bf201d8383",
   "metadata": {
    "tags": []
   },
   "outputs": [],
   "source": [
    "## Probit\n",
    "\n",
    "y_predict_P = result_probit.predict(X_t)\n",
    "fprP, tprP, _ = roc_curve(y_t, y_predict_P)\n",
    "auc_score_P = auc(fprP, tprP)\n",
    "\n",
    "auc_score_P\n"
   ]
  },
  {
   "cell_type": "code",
   "execution_count": null,
   "id": "db44cdcc-0059-4e41-b9d9-00f6a8fa5b1b",
   "metadata": {
    "tags": []
   },
   "outputs": [],
   "source": [
    "## Cloglog\n",
    "\n",
    "y_predict_Log = result_cloglog.predict(X_t)\n",
    "fprLog, tprLog, _ = roc_curve(y_t, y_predict_Log)\n",
    "auc_score_Log = auc(fprLog, tprLog)\n",
    "auc_score_Log "
   ]
  },
  {
   "cell_type": "code",
   "execution_count": null,
   "id": "24b19626-f97d-44e5-978e-7cd4de149fff",
   "metadata": {
    "tags": []
   },
   "outputs": [],
   "source": [
    "# pour le logit, Probit,SVM, Arbre Gini et Arbre Entropie\n",
    "\n",
    "plt.plot(fprL,tprL,\"g--\",label='Logit : (auc={:.3f}) '.format(auc_score_L))\n",
    "plt.plot(fprP,tprP,\"m-\",label='Probit: (auc={:.3f}) '.format(auc_score_P))\n",
    "plt.plot(fprLog,tprLog,\"b-.\",label='CLogLog: (auc={:.3f}) '.format(auc_score_Log))\n",
    "\n",
    "# Aléatoire\n",
    "\n",
    "plt.plot([0,1],[0,1],\"k-\")  #, label=\"Aléatoire\"\n",
    "\n",
    "plt.xlabel(\"Taux de faux positif\")\n",
    "plt.ylabel(\"Taux de vrais positifs\")\n",
    "plt.xlim([0,1])\n",
    "plt.ylim([0,1])\n",
    "plt.legend()\n",
    "plt.suptitle(\"Courbe ROC des 3 modèles\")\n",
    "plt.show()"
   ]
  },
  {
   "cell_type": "markdown",
   "id": "280e9f3b-f8bf-4c5d-9c22-e92d5c29d894",
   "metadata": {},
   "source": [
    "## Utilisation de ceci pour des données déséquilibrées\n",
    "\n",
    "Dnas GLM de SM, il y a la possibilité de mettre les poids avec un eoption ***freq_weights***. Il s nécessaire d'avoir les poids pur toutes les valeurs de la variable dépendante."
   ]
  },
  {
   "cell_type": "code",
   "execution_count": null,
   "id": "211ab9d2-7187-4c8f-8916-91006e05604e",
   "metadata": {
    "tags": []
   },
   "outputs": [],
   "source": [
    "### Evaluation avec les poids"
   ]
  },
  {
   "cell_type": "code",
   "execution_count": null,
   "id": "573b394b-2f7e-42da-b20a-02591dbc40d5",
   "metadata": {
    "tags": []
   },
   "outputs": [],
   "source": [
    "valeur = y_a.value_counts(normalize=True)\n",
    "valeur\n"
   ]
  },
  {
   "cell_type": "code",
   "execution_count": null,
   "id": "b0cb9289-13b1-4496-9ba4-9f8e1a99d552",
   "metadata": {
    "tags": []
   },
   "outputs": [],
   "source": [
    "valeur = y_a.value_counts(normalize=True)\n",
    "valeur\n"
   ]
  },
  {
   "cell_type": "code",
   "execution_count": null,
   "id": "b3d56493-4b6e-45f7-981e-e0cb91982d54",
   "metadata": {
    "tags": []
   },
   "outputs": [],
   "source": [
    "# Calculer l'inverse de chaque fréquence pour obtenir les poids\n",
    "\n",
    "inverse_frequences = 1 / valeur[y_a]\n",
    "inverse_frequences"
   ]
  },
  {
   "cell_type": "code",
   "execution_count": null,
   "id": "5d6d5230-6b77-4395-a78e-d2748cb5495a",
   "metadata": {
    "tags": []
   },
   "outputs": [],
   "source": [
    "logit3 = sm.GLM(y_a, X1_a,freq_weights=inverse_frequences ,family=sm.families.Binomial())\n",
    "result_log3=logit3.fit()\n",
    "result_log3.summary()"
   ]
  },
  {
   "cell_type": "code",
   "execution_count": null,
   "id": "37d4b939-ee7e-4140-ab50-d966760ec996",
   "metadata": {
    "tags": []
   },
   "outputs": [],
   "source": [
    "evaluate_model(result_log3,X_t.drop(columns=['Age','EXP','DEP']),y_t,\"Modèle Logit avec poids\")"
   ]
  }
 ],
 "metadata": {
  "kernelspec": {
   "display_name": "Python 3 (ipykernel)",
   "language": "python",
   "name": "python3"
  },
  "language_info": {
   "codemirror_mode": {
    "name": "ipython",
    "version": 3
   },
   "file_extension": ".py",
   "mimetype": "text/x-python",
   "name": "python",
   "nbconvert_exporter": "python",
   "pygments_lexer": "ipython3",
   "version": "3.11.5"
  }
 },
 "nbformat": 4,
 "nbformat_minor": 5
}
